{
 "cells": [
  {
   "cell_type": "code",
   "execution_count": 1,
   "metadata": {},
   "outputs": [
    {
     "name": "stderr",
     "output_type": "stream",
     "text": [
      "C:\\Users\\rhema\\AppData\\Local\\Temp\\ipykernel_32984\\2472146183.py:15: DtypeWarning: Columns (9) have mixed types. Specify dtype option on import or set low_memory=False.\n",
      "  df = pd.read_csv(file)\n"
     ]
    }
   ],
   "source": [
    "import pandas as pd\n",
    "import glob\n",
    "\n",
    "# Specify the path to the directory containing the CSV files\n",
    "csv_directory = r'C:\\Users\\rhema\\OneDrive\\Desktop\\Dataset'\n",
    "\n",
    "# Use glob to retrieve a list of all CSV file paths in the directory\n",
    "csv_files = glob.glob(csv_directory + '\\\\*.csv')\n",
    "\n",
    "# Initialize an empty list to store the individual data frames\n",
    "dfs = []\n",
    "\n",
    "# Loop through each CSV file and append its contents to the list\n",
    "for file in csv_files:\n",
    "    df = pd.read_csv(file)\n",
    "    dfs.append(df)\n",
    "\n",
    "# Concatenate all data frames in the list into a single data frame\n",
    "combined_df = pd.concat(dfs)\n",
    "\n",
    "# Write the combined data frame to a new CSV file\n",
    "combined_df.to_csv('combined_file.csv', index=False)\n"
   ]
  },
  {
   "cell_type": "code",
   "execution_count": 2,
   "metadata": {},
   "outputs": [
    {
     "name": "stderr",
     "output_type": "stream",
     "text": [
      "C:\\Users\\rhema\\AppData\\Local\\Temp\\ipykernel_32984\\3496158464.py:1: DtypeWarning: Columns (9) have mixed types. Specify dtype option on import or set low_memory=False.\n",
      "  df = pd.read_csv('combined_file.csv')\n"
     ]
    }
   ],
   "source": [
    "df = pd.read_csv('combined_file.csv')"
   ]
  },
  {
   "cell_type": "code",
   "execution_count": 3,
   "metadata": {},
   "outputs": [
    {
     "data": {
      "text/html": [
       "<div>\n",
       "<style scoped>\n",
       "    .dataframe tbody tr th:only-of-type {\n",
       "        vertical-align: middle;\n",
       "    }\n",
       "\n",
       "    .dataframe tbody tr th {\n",
       "        vertical-align: top;\n",
       "    }\n",
       "\n",
       "    .dataframe thead th {\n",
       "        text-align: right;\n",
       "    }\n",
       "</style>\n",
       "<table border=\"1\" class=\"dataframe\">\n",
       "  <thead>\n",
       "    <tr style=\"text-align: right;\">\n",
       "      <th></th>\n",
       "      <th>YEAR</th>\n",
       "      <th>MO</th>\n",
       "      <th>DY</th>\n",
       "      <th>HR</th>\n",
       "      <th>WS50M</th>\n",
       "      <th>Location</th>\n",
       "      <th>Latitude</th>\n",
       "      <th>Longitude</th>\n",
       "      <th>Unnamed: 8</th>\n",
       "      <th>Unnamed: 9</th>\n",
       "    </tr>\n",
       "  </thead>\n",
       "  <tbody>\n",
       "    <tr>\n",
       "      <th>0</th>\n",
       "      <td>2013</td>\n",
       "      <td>1</td>\n",
       "      <td>1</td>\n",
       "      <td>2</td>\n",
       "      <td>5.25</td>\n",
       "      <td>Kajiado</td>\n",
       "      <td>-1.8313</td>\n",
       "      <td>36.7987</td>\n",
       "      <td>NaN</td>\n",
       "      <td>NaN</td>\n",
       "    </tr>\n",
       "    <tr>\n",
       "      <th>1</th>\n",
       "      <td>2013</td>\n",
       "      <td>1</td>\n",
       "      <td>1</td>\n",
       "      <td>3</td>\n",
       "      <td>4.96</td>\n",
       "      <td>Kajiado</td>\n",
       "      <td>-1.8313</td>\n",
       "      <td>36.7987</td>\n",
       "      <td>NaN</td>\n",
       "      <td>NaN</td>\n",
       "    </tr>\n",
       "    <tr>\n",
       "      <th>2</th>\n",
       "      <td>2013</td>\n",
       "      <td>1</td>\n",
       "      <td>1</td>\n",
       "      <td>4</td>\n",
       "      <td>4.77</td>\n",
       "      <td>Kajiado</td>\n",
       "      <td>-1.8313</td>\n",
       "      <td>36.7987</td>\n",
       "      <td>NaN</td>\n",
       "      <td>NaN</td>\n",
       "    </tr>\n",
       "    <tr>\n",
       "      <th>3</th>\n",
       "      <td>2013</td>\n",
       "      <td>1</td>\n",
       "      <td>1</td>\n",
       "      <td>5</td>\n",
       "      <td>4.64</td>\n",
       "      <td>Kajiado</td>\n",
       "      <td>-1.8313</td>\n",
       "      <td>36.7987</td>\n",
       "      <td>NaN</td>\n",
       "      <td>NaN</td>\n",
       "    </tr>\n",
       "    <tr>\n",
       "      <th>4</th>\n",
       "      <td>2013</td>\n",
       "      <td>1</td>\n",
       "      <td>1</td>\n",
       "      <td>6</td>\n",
       "      <td>4.55</td>\n",
       "      <td>Kajiado</td>\n",
       "      <td>-1.8313</td>\n",
       "      <td>36.7987</td>\n",
       "      <td>NaN</td>\n",
       "      <td>NaN</td>\n",
       "    </tr>\n",
       "  </tbody>\n",
       "</table>\n",
       "</div>"
      ],
      "text/plain": [
       "   YEAR  MO  DY  HR  WS50M Location  Latitude   Longitude   Unnamed: 8  \\\n",
       "0  2013   1   1   2   5.25  Kajiado    -1.8313     36.7987         NaN   \n",
       "1  2013   1   1   3   4.96  Kajiado    -1.8313     36.7987         NaN   \n",
       "2  2013   1   1   4   4.77  Kajiado    -1.8313     36.7987         NaN   \n",
       "3  2013   1   1   5   4.64  Kajiado    -1.8313     36.7987         NaN   \n",
       "4  2013   1   1   6   4.55  Kajiado    -1.8313     36.7987         NaN   \n",
       "\n",
       "  Unnamed: 9  \n",
       "0        NaN  \n",
       "1        NaN  \n",
       "2        NaN  \n",
       "3        NaN  \n",
       "4        NaN  "
      ]
     },
     "execution_count": 3,
     "metadata": {},
     "output_type": "execute_result"
    }
   ],
   "source": [
    "df.head()"
   ]
  },
  {
   "cell_type": "code",
   "execution_count": 4,
   "metadata": {},
   "outputs": [
    {
     "data": {
      "text/plain": [
       "array(['Kajiado', 'Laikipia', 'Marsabit ', 'Meru ', 'Nyeri', 'Maralal'],\n",
       "      dtype=object)"
      ]
     },
     "execution_count": 4,
     "metadata": {},
     "output_type": "execute_result"
    }
   ],
   "source": [
    "df.Location.unique()"
   ]
  },
  {
   "cell_type": "code",
   "execution_count": 5,
   "metadata": {},
   "outputs": [
    {
     "name": "stdout",
     "output_type": "stream",
     "text": [
      "<class 'pandas.core.frame.DataFrame'>\n",
      "RangeIndex: 526032 entries, 0 to 526031\n",
      "Data columns (total 10 columns):\n",
      " #   Column      Non-Null Count   Dtype  \n",
      "---  ------      --------------   -----  \n",
      " 0   YEAR        526032 non-null  int64  \n",
      " 1   MO          526032 non-null  int64  \n",
      " 2   DY          526032 non-null  int64  \n",
      " 3   HR          526032 non-null  int64  \n",
      " 4   WS50M       526032 non-null  float64\n",
      " 5   Location    526032 non-null  object \n",
      " 6   Latitude    526032 non-null  float64\n",
      " 7   Longitude   526032 non-null  float64\n",
      " 8   Unnamed: 8  0 non-null       float64\n",
      " 9   Unnamed: 9  1 non-null       object \n",
      "dtypes: float64(4), int64(4), object(2)\n",
      "memory usage: 40.1+ MB\n"
     ]
    }
   ],
   "source": [
    "df.info()"
   ]
  }
 ],
 "metadata": {
  "kernelspec": {
   "display_name": "Python 3",
   "language": "python",
   "name": "python3"
  },
  "language_info": {
   "codemirror_mode": {
    "name": "ipython",
    "version": 3
   },
   "file_extension": ".py",
   "mimetype": "text/x-python",
   "name": "python",
   "nbconvert_exporter": "python",
   "pygments_lexer": "ipython3",
   "version": "3.11.3"
  },
  "orig_nbformat": 4
 },
 "nbformat": 4,
 "nbformat_minor": 2
}
